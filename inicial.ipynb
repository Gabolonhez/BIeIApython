{
 "cells": [
  {
   "cell_type": "markdown",
   "metadata": {},
   "source": [
    "# Projeto Python IA: Inteligência Artificial e Previsões\n",
    "\n",
    "### Case: Score de Crédito dos Clientes\n",
    "\n",
    "Você foi contratado por um banco para conseguir definir o score de crédito dos clientes. Você precisa analisar todos os clientes do banco e, com base nessa análise, criar um modelo que consiga ler as informações do cliente e dizer automaticamente o score de crédito dele: Ruim, Ok, Bom\n",
    "\n",
    "Arquivos da aula: https://drive.google.com/drive/folders/1FbDqVq4XLvU85VBlVIMJ73p9oOu6u2-J?usp=drive_link"
   ]
  },
  {
   "cell_type": "code",
   "execution_count": 1,
   "metadata": {},
   "outputs": [],
   "source": [
    "# pip install pandas numpy scikit-learn\n",
    "# Step 0 - Understand the challenge and company\n"
   ]
  },
  {
   "cell_type": "code",
   "execution_count": null,
   "metadata": {},
   "outputs": [],
   "source": [
    "# Step 1 - Import the database\n",
    "import pandas as pd\n",
    "\n",
    "table = pd.read_csv(\"clientes.csv\")\n",
    "display(table)\n",
    "\n",
    "# Verify if we have an empty value\n",
    "display(table.info())"
   ]
  },
  {
   "cell_type": "code",
   "execution_count": null,
   "metadata": {},
   "outputs": [],
   "source": [
    "# Step 2 - Prepare database to artificial intelligence\n",
    "# Label Encoder\n",
    "from sklearn.preprocessing import LabelEncoder \n",
    "\n",
    "encoder = LabelEncoder()\n",
    "table[\"profissao\"] = encoder.fit_transform(table['profissao'])\n",
    "table[\"mix_credito\"] = encoder.fit_transform(table['mix_credito'])\n",
    "table[\"comportamento_pagamento\"] = encoder.fit_transform(table['comportamento_pagamento'])\n",
    "display(table.info())\n",
    "\n",
    "# profission\n",
    "    # scientist -> 0\n",
    "    # teacher -> 1\n",
    "    # painter ->2\n",
    "    # doctor -> 3\n",
    "\n",
    "# mix_credit\n",
    "# comportamental-payment"
   ]
  },
  {
   "cell_type": "code",
   "execution_count": 1,
   "metadata": {},
   "outputs": [
    {
     "ename": "NameError",
     "evalue": "name 'tabela' is not defined",
     "output_type": "error",
     "traceback": [
      "\u001b[1;31m---------------------------------------------------------------------------\u001b[0m",
      "\u001b[1;31mNameError\u001b[0m                                 Traceback (most recent call last)",
      "Cell \u001b[1;32mIn[1], line 4\u001b[0m\n\u001b[0;32m      1\u001b[0m \u001b[39m# escolhendo quais colunas vamos usar para treinar o modelo\u001b[39;00m\n\u001b[0;32m      2\u001b[0m \u001b[39m# y é a coluna que queremos que o modelo calcule\u001b[39;00m\n\u001b[0;32m      3\u001b[0m \u001b[39m# x vai todas as colunas que vamos usar para prever o score de credito, não vamos usar a coluna id_cliente porque ela é um numero qualquer que nao ajuda a previsao\u001b[39;00m\n\u001b[1;32m----> 4\u001b[0m x \u001b[39m=\u001b[39m tabela\u001b[39m.\u001b[39mdrop([\u001b[39m\"\u001b[39m\u001b[39mscore_credito\u001b[39m\u001b[39m\"\u001b[39m, \u001b[39m\"\u001b[39m\u001b[39mid_cliente\u001b[39m\u001b[39m\"\u001b[39m], axis\u001b[39m=\u001b[39m\u001b[39m1\u001b[39m)\n\u001b[0;32m      5\u001b[0m y \u001b[39m=\u001b[39m tabela[\u001b[39m\"\u001b[39m\u001b[39mscore_credito\u001b[39m\u001b[39m\"\u001b[39m]\n\u001b[0;32m      7\u001b[0m \u001b[39mfrom\u001b[39;00m \u001b[39msklearn\u001b[39;00m\u001b[39m.\u001b[39;00m\u001b[39mmodel_selection\u001b[39;00m \u001b[39mimport\u001b[39;00m train_test_split\n",
      "\u001b[1;31mNameError\u001b[0m: name 'tabela' is not defined"
     ]
    }
   ],
   "source": [
    "# escolhendo quais colunas vamos usar para treinar o modelo\n",
    "# y é a coluna que queremos que o modelo calcule\n",
    "# x vai todas as colunas que vamos usar para prever o score de credito, não vamos usar a coluna id_cliente porque ela é um numero qualquer que nao ajuda a previsao\n",
    "x = tabela.drop([\"score_credito\", \"id_cliente\"], axis=1)\n",
    "y = tabela[\"score_credito\"]\n",
    "\n",
    "from sklearn.model_selection import train_test_split\n",
    "\n",
    "# separamos os dados em treino e teste. Treino vamos dar para os modelos aprenderem e teste vamos usar para ver se o modelo aprendeu corretamente\n",
    "x_treino, x_teste, y_treino, y_teste = train_test_split(x, y, test_size=0.3, random_state=1)"
   ]
  },
  {
   "cell_type": "code",
   "execution_count": null,
   "metadata": {},
   "outputs": [],
   "source": [
    "# Step 3 - Create the AI model -> credit score: Good, Standard, Poor\n",
    "from sklearn.ensemble import RandomForestClassifier\n",
    "from sklearn.neighbors import KNeighborsClassifier\n",
    "\n",
    "modelo_arvore = RandomForestClassifier() # modelo arvore de decisao\n",
    "modelo_knn = KNeighborsClassifier() # modelo do KNN (nearest neighbors - vizinhos mais proximos)\n",
    "\n",
    "# treinando os modelos\n",
    "modelo_arvore.fit(x_treino, y_treino)\n",
    "modelo_knn.fit(x_treino, y_treino)"
   ]
  },
  {
   "cell_type": "code",
   "execution_count": 2,
   "metadata": {},
   "outputs": [
    {
     "ename": "NameError",
     "evalue": "name 'tabela' is not defined",
     "output_type": "error",
     "traceback": [
      "\u001b[1;31m---------------------------------------------------------------------------\u001b[0m",
      "\u001b[1;31mNameError\u001b[0m                                 Traceback (most recent call last)",
      "Cell \u001b[1;32mIn[2], line 3\u001b[0m\n\u001b[0;32m      1\u001b[0m \u001b[39m# Step 4 - Choose the best model \u001b[39;00m\n\u001b[0;32m      2\u001b[0m \u001b[39m# se o nosso modelo chutasse tudo \"Standard\", qual seria a acurácia do modelo?\u001b[39;00m\n\u001b[1;32m----> 3\u001b[0m contagem_scores \u001b[39m=\u001b[39m tabela[\u001b[39m\"\u001b[39m\u001b[39mscore_credito\u001b[39m\u001b[39m\"\u001b[39m]\u001b[39m.\u001b[39mvalue_counts()\n\u001b[0;32m      4\u001b[0m \u001b[39mprint\u001b[39m(contagem_scores[\u001b[39m'\u001b[39m\u001b[39mStandard\u001b[39m\u001b[39m'\u001b[39m] \u001b[39m/\u001b[39m \u001b[39msum\u001b[39m(contagem_scores))\n",
      "\u001b[1;31mNameError\u001b[0m: name 'tabela' is not defined"
     ]
    }
   ],
   "source": [
    "# Step 4 - Choose the best model \n",
    "# se o nosso modelo chutasse tudo \"Standard\", qual seria a acurácia do modelo?\n",
    "contagem_scores = tabela[\"score_credito\"].value_counts()\n",
    "print(contagem_scores['Standard'] / sum(contagem_scores))"
   ]
  },
  {
   "cell_type": "code",
   "execution_count": null,
   "metadata": {},
   "outputs": [],
   "source": [
    "# Step 5 - Make new previsions\n",
    "# fazendo novas previsões\n",
    "novos_clientes = pd.read_csv(\"novos_clientes.csv\")\n",
    "display(novos_clientes)\n",
    "for coluna in novos_clientes.columns:\n",
    "    if novos_clientes[coluna].dtype == \"object\" and coluna != \"score_credito\":\n",
    "        novos_clientes[coluna] = codificador.fit_transform(novos_clientes[coluna])\n",
    "\n",
    "previsoes = modelo_arvore.predict(novos_clientes)\n",
    "print(previsoes)"
   ]
  },
  {
   "cell_type": "code",
   "execution_count": null,
   "metadata": {},
   "outputs": [],
   "source": [
    "# quais as caracteristicas mais importantes para definir o score de credito?\n",
    "colunas = list(x_teste.columns)\n",
    "importancia = pd.DataFrame(index=colunas, data=modelo_arvore.feature_importances_)\n",
    "importancia = importancia * 100\n",
    "print(importancia)"
   ]
  },
  {
   "cell_type": "code",
   "execution_count": null,
   "metadata": {},
   "outputs": [],
   "source": [
    "\n"
   ]
  }
 ],
 "metadata": {
  "kernelspec": {
   "display_name": "Python 3",
   "language": "python",
   "name": "python3"
  },
  "language_info": {
   "codemirror_mode": {
    "name": "ipython",
    "version": 3
   },
   "file_extension": ".py",
   "mimetype": "text/x-python",
   "name": "python",
   "nbconvert_exporter": "python",
   "pygments_lexer": "ipython3",
   "version": "3.11.6"
  },
  "orig_nbformat": 4
 },
 "nbformat": 4,
 "nbformat_minor": 2
}
